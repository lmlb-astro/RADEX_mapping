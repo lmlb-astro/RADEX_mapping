{
 "cells": [
  {
   "cell_type": "markdown",
   "id": "f099812c-70fc-4d48-b22c-89d02955ff1e",
   "metadata": {},
   "source": [
    "## RADEX_Fitting\n",
    "#### -> in RADEX_fitting.py\n",
    "#### Functions:\n",
    "Public:\n",
    "- verify_molecular_data_in_grid(self, grid_path, mol_name, transitions)\n",
    "- get_sorted_list_of_radex_files_for_molecule_in_directory(self, grid_path, mol_name)\n",
    "- read_RADEX_file_into_dataframe(self, path_file)\n",
    "\n",
    "Protected:\n",
    "- _run_verification(self, grid_path, im_list_mol, Tkin, Nmol)\n",
    "- _verify_Tkin_Nmol(self, grid_path, sorted_file_list, Tkin, Nmol)\n",
    "- _get_Nmol_float(self, Nmol)\n",
    "\n",
    "Private:\n",
    "- __get_list_of_dat_files_in_directory(self, grid_path)\n",
    "- __check_requested_quantities(self, len_list, Tkin, Nmol)\n",
    "- __verify_Nmol(self, sorted_file_list, Nmol)\n",
    "- __verify_Tkin(self, grid_path, sorted_file_list, Tkin)"
   ]
  },
  {
   "cell_type": "code",
   "execution_count": null,
   "id": "4b461ac4-40ca-48a4-8adb-ae04760de9af",
   "metadata": {},
   "outputs": [],
   "source": []
  },
  {
   "cell_type": "markdown",
   "id": "d2192739-2911-4b1f-8737-616f2036f7e6",
   "metadata": {},
   "source": [
    "## Regressor (RADEX_Fitting)\n",
    "#### -> in Regression_on_intensities.py\n",
    "#### Functions:\n",
    "Public:\n",
    "- map_from_dens_SVRregression(self, grid_path, im_list_mol, Tkin = None, Nmol = None, plot_verify_fitting = True, test_perc = 30.)\n",
    "- create_dens_SVRregression_model_for_molecule(self, grid_path, im_list_mol, Tkin = None, Nmol = None, plot_verify_fitting = True, test_perc = 30.)\n",
    "- predict_map(self, Xs)\n",
    "- TO ADD: empty_models, compare_observed_and_training_data\n",
    "\n",
    "Private:\n",
    "- __get_data_subset_from_inds(self, dataX, dataY, indices)\n",
    "- __get_input_data(self, grid_path, sorted_file_list, Tkin, Nmol, transitions, test_perc = 30.)\n",
    "- __get_density_features(self, grid_path, sorted_file_list, Tkin, Nmol, transitions)\n",
    "- __create_HDU_list_from_outputs(self, outputs, indices, len_x, len_y, header)\n",
    "- __inspect_deviations_fit(self, y_in, y_fit, param)\n",
    "- __get_train_test_data(self, grid_path, im_list_mol, Tkin, Nmol, test_perc)\n",
    "- __verify_regression(self, plot_verify_fitting, Xs_test, Ys_test)\n"
   ]
  },
  {
   "cell_type": "code",
   "execution_count": null,
   "id": "409ec5ec-fcf0-4976-ae3a-26bb2f645d42",
   "metadata": {},
   "outputs": [],
   "source": []
  },
  {
   "cell_type": "markdown",
   "id": "29684c39-615e-477d-98c7-ae1dfe671d68",
   "metadata": {},
   "source": [
    "## Molecule_HDUList (HDUList)\n",
    "#### -> in molecule_hdulist.py\n",
    "#### Functions:\n",
    "Public:\n",
    "- get_uniform_nans(self)\n",
    "- verify_consistent_shapes(self)"
   ]
  },
  {
   "cell_type": "code",
   "execution_count": null,
   "id": "33bbd70b-5a90-4805-abe4-24d0017e9f01",
   "metadata": {},
   "outputs": [],
   "source": []
  },
  {
   "cell_type": "markdown",
   "id": "fd004835-88e2-44a6-b754-b695078c09cc",
   "metadata": {},
   "source": [
    "## ColDens_PrimaryHDU (PrimaryHDU)\n",
    "#### -> in colDens_phdu.py\n",
    "#### Functions:\n",
    "Public:\n",
    "- get_mol_colDens(self, rel_mol_abundance)\n",
    "- get_mol_colDens_range(self, rel_mol_abundance = 1.)\n",
    "- histogram_mol_colDens(self, bunit, rel_mol_abundance = 1., log_xscale_bool = False)"
   ]
  },
  {
   "cell_type": "code",
   "execution_count": null,
   "id": "3a7ba69d-8858-4cdf-8e58-aaa24489e61f",
   "metadata": {},
   "outputs": [],
   "source": []
  }
 ],
 "metadata": {
  "kernelspec": {
   "display_name": "Python 3 (ipykernel)",
   "language": "python",
   "name": "python3"
  },
  "language_info": {
   "codemirror_mode": {
    "name": "ipython",
    "version": 3
   },
   "file_extension": ".py",
   "mimetype": "text/x-python",
   "name": "python",
   "nbconvert_exporter": "python",
   "pygments_lexer": "ipython3",
   "version": "3.11.4"
  }
 },
 "nbformat": 4,
 "nbformat_minor": 5
}
