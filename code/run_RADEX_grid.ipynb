{
 "cells": [
  {
   "cell_type": "markdown",
   "id": "0d38d5b8-388b-44f0-a404-e24971c28265",
   "metadata": {},
   "source": [
    "## Runs the make_radex_grid.py script, adapted from the radex_grid.py script developed by F. van der Tak, in the 'bin' folder"
   ]
  },
  {
   "cell_type": "code",
   "execution_count": 1,
   "id": "d1f839bc-b070-41f5-af83-e86195eaf8f6",
   "metadata": {},
   "outputs": [],
   "source": [
    "import os"
   ]
  },
  {
   "cell_type": "code",
   "execution_count": 2,
   "id": "13c1e672-c606-4341-9d37-8ec614cfe21e",
   "metadata": {},
   "outputs": [],
   "source": [
    "## input\n",
    "t_min = '8.0' ## temperature\n",
    "t_max = '15.0'\n",
    "num_t = '3'\n",
    "\n",
    "n_min = '1.0e2' ## density (H_2 (cm^{-3}))\n",
    "n_max = '1.0e5'\n",
    "num_n = '5'\n",
    "\n",
    "N_min = '3.0e14' ## column density (cm^{-2})\n",
    "N_max = '1.5e15'\n",
    "num_N = 5\n",
    "N_temp = '3.0e14'\n",
    "\n",
    "fwhm = '0.25'\n",
    "\n",
    "mol = 'c18o' ## molecule name recognized by RADEX\n",
    "line_1 = '1-0'\n",
    "line_2 = '2-1'\n",
    "\n",
    "## HANDLE FREQUENCIES\n",
    "\n",
    "\n"
   ]
  },
  {
   "cell_type": "code",
   "execution_count": 3,
   "id": "1d45e00f-d356-4669-ad21-68e8a3bc3991",
   "metadata": {},
   "outputs": [
    {
     "name": "stdout",
     "output_type": "stream",
     "text": [
      "Starting  c18o_1-0_3p0e14.dat\n",
      "Min, max: 0.1794 1.956\n",
      "Starting  c18o_2-1_3p0e14.dat\n",
      "Min, max: 0.007501 0.9662\n",
      "Run time =  0.020983219146728516 seconds\n"
     ]
    },
    {
     "name": "stderr",
     "output_type": "stream",
     "text": [
      "sh: line 1: 50306 Killed: 9               ./radex < radex.inp\n",
      "sh: line 1: 50308 Killed: 9               ./radex < radex.inp\n"
     ]
    },
    {
     "data": {
      "text/plain": [
       "0"
      ]
     },
     "execution_count": 3,
     "metadata": {},
     "output_type": "execute_result"
    }
   ],
   "source": [
    " # PROBLEM WITH MAKE_RADEX_GRID: DEBUG.. ERROR CALLED IN FORTRAN...\n",
    "# RUN OLD ONE ON PYTHON 2.7 (INSTALL ON ANACONDA), THEN FURTHER DEBUG\n",
    "\n",
    "## maybe interesting\n",
    "\n",
    "os.chdir('../Radex/bin/')\n",
    "os.system('python make_radex_grid.py')"
   ]
  },
  {
   "cell_type": "code",
   "execution_count": 4,
   "id": "a744d1b9-cbfd-4172-b16f-025935d62b12",
   "metadata": {},
   "outputs": [],
   "source": [
    "#os.chdir('../Radex/bin/')\n",
    "#os.system('python make_radex_grid.py ' + t_min + ' ' + t_max + ' ' + n_min + ' ' + n_max + ' ' + N_temp + ' ' + fwhm + ' ' + num_t + ' ' + num_n + ' ' + mol + ' ' + line_1 + ' ' + line_2)"
   ]
  }
 ],
 "metadata": {
  "kernelspec": {
   "display_name": "Python 3 (ipykernel)",
   "language": "python",
   "name": "python3"
  },
  "language_info": {
   "codemirror_mode": {
    "name": "ipython",
    "version": 3
   },
   "file_extension": ".py",
   "mimetype": "text/x-python",
   "name": "python",
   "nbconvert_exporter": "python",
   "pygments_lexer": "ipython3",
   "version": "3.11.4"
  }
 },
 "nbformat": 4,
 "nbformat_minor": 5
}
