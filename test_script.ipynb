{
 "cells": [
  {
   "cell_type": "code",
   "execution_count": null,
   "id": "5a8be2ef-6f2e-4cf5-81cd-d64bb417975a",
   "metadata": {},
   "outputs": [],
   "source": [
    "import numpy as np\n",
    "import matplotlib.pyplot as plt\n",
    "import astropy.io.fits as pyfits\n",
    "import astropy.wcs as wcs\n",
    "\n",
    "import sys\n",
    "\n",
    "import os\n",
    "\n",
    "# CAN ALSO WORK WITH PYPATH\n",
    "sys.path.insert(0,'libraries/')\n",
    "import ratio_density as rat\n",
    "from image import Astro_Image\n",
    "from image import ColDens_Image"
   ]
  },
  {
   "cell_type": "code",
   "execution_count": null,
   "id": "1d2cac14-da6d-4f4e-bac4-f3a10e99f215",
   "metadata": {},
   "outputs": [],
   "source": []
  },
  {
   "cell_type": "code",
   "execution_count": null,
   "id": "7618548e-1bae-4e06-97e5-661d2fedb52c",
   "metadata": {},
   "outputs": [],
   "source": []
  },
  {
   "cell_type": "code",
   "execution_count": null,
   "id": "9ace37ee-b96d-46e5-b67b-82756afd1d18",
   "metadata": {},
   "outputs": [],
   "source": []
  }
 ],
 "metadata": {
  "kernelspec": {
   "display_name": "Python 3 (ipykernel)",
   "language": "python",
   "name": "python3"
  },
  "language_info": {
   "codemirror_mode": {
    "name": "ipython",
    "version": 3
   },
   "file_extension": ".py",
   "mimetype": "text/x-python",
   "name": "python",
   "nbconvert_exporter": "python",
   "pygments_lexer": "ipython3",
   "version": "3.11.4"
  }
 },
 "nbformat": 4,
 "nbformat_minor": 5
}
